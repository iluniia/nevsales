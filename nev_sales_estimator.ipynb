{
  "nbformat": 4,
  "nbformat_minor": 0,
  "metadata": {
    "colab": {
      "name": "nev_sales_estimator.ipynb",
      "provenance": []
    },
    "kernelspec": {
      "name": "python3",
      "display_name": "Python 3"
    },
    "language_info": {
      "name": "python"
    }
  },
  "cells": [
    {
      "cell_type": "code",
      "metadata": {
        "colab": {
          "base_uri": "https://localhost:8080/",
          "height": 1000
        },
        "id": "eUoqmWv_IboH",
        "outputId": "aab3912c-3d46-471f-c1d7-7d0084803c91"
      },
      "source": [
        "import matplotlib.pyplot as plt \n",
        "import pandas as pd \n",
        "import statsmodels.api as sm\n",
        "from statsmodels.tsa.arima_model import ARIMA\n",
        "\n",
        "def create_prediction_plot(predictions, xaxis):\n",
        "  plt.figure(figsize=(8, 6))\n",
        "  plt.plot(years, predictions, color=\"black\")\n",
        "  plt.title(\"Predicted number of NEV sales from 2021 to 2035\")\n",
        "  plt.xlabel(\"Year\")\n",
        "  plt.ylabel(\"Number of NEV sales\")\n",
        "  plt.legend()\n",
        "  plt.show()\n",
        "  plt.savefig('predicted_sales.png')\n",
        "\n",
        "\n",
        "#read-in full data set\n",
        "df_fulldata = pd.read_csv('nev_sales.csv')\n",
        "\n",
        "#set 'year' column to index\n",
        "df_fulldata.set_index('year', inplace=True)\n",
        "\n",
        "#exctract subset of data\n",
        "df_xtotal = df_fulldata[['batterycosts', 'chargingstations', 'incentives' ,'gdp']].copy()\n",
        "df_x = df_xtotal.iloc[:10]\n",
        "df_xpred = df_xtotal.iloc[10:]\n",
        "df_y = df_fulldata[['sales']].copy()\n",
        "df_y = df_y.iloc[:10]\n",
        "na_y = df_y.to_numpy()\n",
        "na_x = df_x.to_numpy()\n",
        "na_xpred = df_xpred.to_numpy()\n",
        "\n",
        "\n",
        "\n",
        "\n",
        "#specify ARIMA and fit to data\n",
        "model = ARIMA(endog=na_y, exog=na_x, order=(1,1,0))\n",
        "fitted_model = model.fit()\n",
        "\n",
        "print('\\n\\n')\n",
        "\n",
        "print(fitted_model.summary())\n",
        "\n",
        "print('\\n\\n')\n",
        "\n",
        "#make predictions\n",
        "predictions = fitted_model.forecast(exog=na_xpred, steps=15)\n",
        "\n",
        "#create plot with predictions\n",
        "years = list(range(2021, 2036))\n",
        "create_prediction_plot(predictions[0], years)"
      ],
      "execution_count": 18,
      "outputs": [
        {
          "output_type": "stream",
          "text": [
            "\n",
            "\n",
            " na_x \n",
            "\n",
            " [[8.000000e+02 1.330000e+04 5.500000e+04 7.492260e+03]\n",
            " [6.420000e+02 1.470000e+04 4.500000e+04 8.539470e+03]\n",
            " [5.990000e+02 2.250000e+04 4.037500e+04 9.625040e+03]\n",
            " [5.400000e+02 3.100000e+04 4.050000e+04 1.052421e+04]\n",
            " [3.500000e+02 6.300000e+04 3.875000e+04 1.111353e+04]\n",
            " [2.730000e+02 1.500000e+05 3.875000e+04 1.122708e+04]\n",
            " [2.090000e+02 2.139000e+05 3.875000e+04 1.226532e+04]\n",
            " [1.790000e+02 3.313000e+05 3.875000e+04 1.384190e+04]\n",
            " [1.580000e+02 5.160000e+05 1.325000e+04 1.473181e+04]\n",
            " [1.430000e+02 1.000000e+06 1.180000e+04 1.522216e+04]]\n"
          ],
          "name": "stdout"
        },
        {
          "output_type": "stream",
          "text": [
            "No handles with labels found to put in legend.\n"
          ],
          "name": "stderr"
        },
        {
          "output_type": "stream",
          "text": [
            "\n",
            "\n",
            "\n",
            "                             ARIMA Model Results                              \n",
            "==============================================================================\n",
            "Dep. Variable:                    D.y   No. Observations:                    9\n",
            "Model:                 ARIMA(1, 1, 0)   Log Likelihood                -108.260\n",
            "Method:                       css-mle   S.D. of innovations          39991.410\n",
            "Date:                Mon, 22 Mar 2021   AIC                            230.521\n",
            "Time:                        18:45:27   BIC                            231.901\n",
            "Sample:                             1   HQIC                           227.542\n",
            "                                                                              \n",
            "==============================================================================\n",
            "                 coef    std err          z      P>|z|      [0.025      0.975]\n",
            "------------------------------------------------------------------------------\n",
            "const      -1.486e+06   5.36e+05     -2.771      0.070   -2.54e+06   -4.35e+05\n",
            "x1          -245.5462    214.341     -1.146      0.335    -665.646     174.554\n",
            "x2             0.2472      0.213      1.160      0.330      -0.170       0.665\n",
            "x3            22.8766      5.397      4.239      0.024      12.298      33.455\n",
            "x4            73.7752     26.512      2.783      0.069      21.813     125.738\n",
            "ar.L1.D.y     -0.4657      0.464     -1.004      0.389      -1.374       0.443\n",
            "                                    Roots                                    \n",
            "=============================================================================\n",
            "                  Real          Imaginary           Modulus         Frequency\n",
            "-----------------------------------------------------------------------------\n",
            "AR.1           -2.1474           +0.0000j            2.1474            0.5000\n",
            "-----------------------------------------------------------------------------\n",
            "\n",
            "\n",
            " forecast \n",
            "\n",
            " [ 1635587.6612933   2129995.42682441  2769723.44580723  3781152.45167007\n",
            "  5210648.30137098  7074303.37497427  9423777.64556561 12316167.09633633\n",
            " 15805169.32866773 19937703.82248013 24714330.02103856 30151907.42184265\n",
            " 36282135.22445326 43107392.79468041 50580677.65192653]\n",
            "\n",
            "\n",
            "\n",
            "\n"
          ],
          "name": "stdout"
        },
        {
          "output_type": "display_data",
          "data": {
            "image/png": "[encoded data removed]",
            "text/plain": [
              "<Figure size 576x432 with 1 Axes>"
            ]
          },
          "metadata": {
            "tags": [],
            "needs_background": "light"
          }
        },
        {
          "output_type": "display_data",
          "data": {
            "text/plain": [
              "<Figure size 432x288 with 0 Axes>"
            ]
          },
          "metadata": {
            "tags": []
          }
        }
      ]
    }
  ]
}